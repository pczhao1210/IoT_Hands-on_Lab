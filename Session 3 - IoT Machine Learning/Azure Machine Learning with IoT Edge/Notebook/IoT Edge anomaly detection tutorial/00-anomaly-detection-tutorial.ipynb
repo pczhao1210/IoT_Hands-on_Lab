{
  "cells": [
    {
      "cell_type": "markdown",
      "source": [
        "Copyright (c) Microsoft Corporation. All rights reserved.\n",
        "\n",
        "Licensed under the MIT License."
      ],
      "metadata": {}
    },
    {
      "cell_type": "markdown",
      "source": [
        "##  Azure ML and IoT Edge Workshop\n",
        "\n",
        "For more information go to https://aka.ms/aml-tutorial/ai-iot-power-couple\n"
      ],
      "metadata": {}
    },
    {
      "cell_type": "markdown",
      "source": [
        "## 1: Specify parameters\n",
        "Fill in the parameters below.  If you already have IoT Hub or Azure ML workspace, then enter their information here. Otherwise, the parameter names will be used in provisioning new services."
      ],
      "metadata": {}
    },
    {
      "cell_type": "code",
      "source": [
        "# Enter the resource group in Azure where you want to provision the resources \n",
        "resource_group_name = \"rgname\"\n",
        "\n",
        "# Enter the ML ACR Information\n",
        "mlacr_username = \"acruser\"\n",
        "mlacr_password = \"acrpasswd\"\n",
        "\n",
        "# Enter Azure region where your services will be provisioned, for example \"eastus2\"\n",
        "azure_region=\"China\"\n",
        "\n",
        "# Enter your Azure IoT Hub name \n",
        "# If you don't have an IoT Hub, pick a name to make a new one \n",
        "iot_hub_name=\"hunname\"\n",
        "\n",
        "# Enter your IoT Edge device ID \n",
        "# If you don't have an IoT Edge device registered, pick a name to create a new one \n",
        "# This is NOT the name of your VM, but it's just an entry in your IoT Hub, so you can pick any name\n",
        "iot_device_id=\"devicename\"\n",
        "\n",
        "# Provide your Azure subscription ID to provision your services\n",
        "subscription_id = \"sub_id\"\n",
        "\n",
        "# Provide your Azure ML service workspace name \n",
        "# If you don't have a workspace, pick a name to create a new one\n",
        "aml_workspace_name = \"ml_workspace_name\""
      ],
      "outputs": [],
      "execution_count": 57,
      "metadata": {
        "gather": {
          "logged": 1622358459295
        }
      }
    },
    {
      "cell_type": "code",
      "source": [
        "# DO NOT CHANGE THIS VALUE for this tutorial\n",
        "# This is the name of the AML module you deploy to the device\n",
        "module_name = \"azuremlad\""
      ],
      "outputs": [],
      "execution_count": 2,
      "metadata": {
        "gather": {
          "logged": 1622347123309
        }
      }
    },
    {
      "cell_type": "code",
      "source": [
        "!az cloud set -n AzureChinaCloud\r\n",
        "!az login"
      ],
      "outputs": [
        {
          "output_type": "stream",
          "name": "stdout",
          "text": [
            "\u001b[0m\u001b[33mTo sign in, use a web browser to open the page https://microsoft.com/deviceloginchina and enter the code DNKPFHCFN to authenticate.\u001b[0m\n",
            "\u001b[33mThe following tenants don't contain accessible subscriptions. Use 'az login --allow-no-subscriptions' to have tenant level access.\u001b[0m\n",
            "\u001b[33m6c42a620-fa0c-400a-88a7-4ef669bb047f\u001b[0m\n",
            "[\n",
            "  {\n",
            "    \"cloudName\": \"AzureChinaCloud\",\n",
            "    \"homeTenantId\": \"997f76fe-a833-48b5-b33b-ac2118cc6763\",\n",
            "    \"id\": \"a418906f-b40d-43ee-b86a-ce67f05be91e\",\n",
            "    \"isDefault\": true,\n",
            "    \"managedByTenants\": [],\n",
            "    \"name\": \"Windows Azure Internal Consumption\",\n",
            "    \"state\": \"Enabled\",\n",
            "    \"tenantId\": \"997f76fe-a833-48b5-b33b-ac2118cc6763\",\n",
            "    \"user\": {\n",
            "      \"name\": \"alex@msftiot.partner.onmschina.cn\",\n",
            "      \"type\": \"user\"\n",
            "    }\n",
            "  }\n",
            "]\n",
            "\u001b[0m"
          ]
        }
      ],
      "execution_count": 3,
      "metadata": {}
    },
    {
      "cell_type": "code",
      "source": [
        "# Load the IoT extension for Azure CLI\n",
        "!az extension add --name azure-iot"
      ],
      "outputs": [
        {
          "output_type": "stream",
          "name": "stdout",
          "text": [
            "\u001b[K - Downloading ..\r\u001b[K - Installing ..\r\u001b[0m"
          ]
        }
      ],
      "execution_count": 5,
      "metadata": {
        "gather": {
          "logged": 1622347328345
        }
      }
    },
    {
      "cell_type": "code",
      "source": [
        "!az account set --subscription $subscription_id\r\n",
        "!az iot hub list --output table"
      ],
      "outputs": [
        {
          "output_type": "stream",
          "name": "stdout",
          "text": [
            "\u001b[0mLocation    Name        Resourcegroup    Subscriptionid\n",
            "----------  ----------  ---------------  ------------------------------------\n",
            "chinanorth  IoT-Hub-01  IoT-Mooncake     a418906f-b40d-43ee-b86a-ce67f05be91e\n",
            "\u001b[0m"
          ]
        }
      ],
      "execution_count": 6,
      "metadata": {}
    },
    {
      "cell_type": "code",
      "source": [
        "# Check core SDK version number\n",
        "import azureml.core\n",
        "from azureml.core import Workspace\n",
        "\n",
        "print(\"SDK version:\", azureml.core.VERSION)"
      ],
      "outputs": [
        {
          "output_type": "stream",
          "name": "stdout",
          "text": [
            "SDK version: 1.17.0\n"
          ]
        }
      ],
      "execution_count": 7,
      "metadata": {
        "gather": {
          "logged": 1622347408122
        }
      }
    },
    {
      "cell_type": "markdown",
      "source": [
        "## 2: Provision Azure ML Workspace and IoT Hub \n",
        "If you already have provisioned these resources, then skip this section and go Section 3."
      ],
      "metadata": {}
    },
    {
      "cell_type": "markdown",
      "source": [
        "### 2.1: Provision Azure ML workspace (optional)\n",
        "After you've done this once you no longer have to run this cell anymore"
      ],
      "metadata": {}
    },
    {
      "cell_type": "code",
      "source": [
        "ws = Workspace.create(subscription_id = subscription_id,\n",
        "                resource_group = resource_group_name,\n",
        "                name = aml_workspace_name,\n",
        "                location = azure_region)\n",
        "\n",
        "ws.write_config()"
      ],
      "outputs": [],
      "execution_count": null,
      "metadata": {}
    },
    {
      "cell_type": "markdown",
      "source": [
        "### 2.2: Provision IoT Hub (optional)\n",
        "If you get an error because there's already one free hub in your subscription, change the SKU to S1. If you get an error that the IoT Hub name isn't available, it means that someone else already has a hub with that name. \n"
      ],
      "metadata": {}
    },
    {
      "cell_type": "code",
      "source": [
        "!az iot hub create --resource-group $resource_group_name --name $iot_hub_name --sku F1"
      ],
      "outputs": [],
      "execution_count": null,
      "metadata": {}
    },
    {
      "cell_type": "code",
      "source": [
        "# Register an IoT Edge device (create a new entry in the Iot Hub)\n",
        "!az iot hub device-identity create --hub-name $iot_hub_name --device-id $iot_device_id --edge-enabled"
      ],
      "outputs": [],
      "execution_count": null,
      "metadata": {}
    },
    {
      "cell_type": "markdown",
      "source": [
        "## 3: Load resources\n",
        "Load the Azure ML workspace and get the IoT Edge device connection string from your IoT Hub."
      ],
      "metadata": {}
    },
    {
      "cell_type": "markdown",
      "source": [
        "### 3.1 Load the Azure ML workspace."
      ],
      "metadata": {}
    },
    {
      "cell_type": "code",
      "source": [
        "# Initialize a workspace object from persisted configuration\n",
        "from azureml.core import Workspace\n",
        "\n",
        "ws = Workspace.from_config()\n",
        "print(ws.name, ws.resource_group, ws.location, ws.subscription_id, sep = '\\n')"
      ],
      "outputs": [
        {
          "output_type": "stream",
          "name": "stdout",
          "text": [
            "ml_workspace\n",
            "Azure_AI\n",
            "chinaeast2\n",
            "a418906f-b40d-43ee-b86a-ce67f05be91e\n"
          ]
        }
      ],
      "execution_count": 11,
      "metadata": {
        "tags": [
          "create workspace"
        ],
        "gather": {
          "logged": 1622347629399
        }
      }
    },
    {
      "cell_type": "markdown",
      "source": [
        "### 3.2: Get the Azure IoT Edge device connection string"
      ],
      "metadata": {}
    },
    {
      "cell_type": "code",
      "source": [
        "# Get the connection string that you will need to enter in the IoT Edge device\n",
        "!az iot hub device-identity connection-string show --device-id $iot_device_id --hub-name $iot_hub_name"
      ],
      "outputs": [
        {
          "output_type": "stream",
          "name": "stdout",
          "text": [
            "{\r\n",
            "  \"connectionString\": \"HostName=IoT-Hub-01.azure-devices.cn;DeviceId=azure-ai;SharedAccessKey=cVrqjjJrkq6tEVaeNSefdLqkk3UJJ8NyLj1jFowxL14=\"\r\n",
            "}\r\n",
            "\u001b[0m"
          ]
        }
      ],
      "execution_count": 16,
      "metadata": {
        "scrolled": true,
        "gather": {
          "logged": 1622347768969
        }
      }
    },
    {
      "cell_type": "markdown",
      "source": [
        "## 4: Anomaly Detection Model"
      ],
      "metadata": {}
    },
    {
      "cell_type": "markdown",
      "source": [
        "## 4.1 Train the model"
      ],
      "metadata": {}
    },
    {
      "cell_type": "code",
      "source": [
        "!pip install pandas\n",
        "!pip install sklearn"
      ],
      "outputs": [
        {
          "output_type": "stream",
          "name": "stdout",
          "text": [
            "Requirement already satisfied: pandas in /anaconda/envs/azureml_py36/lib/python3.6/site-packages (0.25.3)\n",
            "Requirement already satisfied: pytz>=2017.2 in /anaconda/envs/azureml_py36/lib/python3.6/site-packages (from pandas) (2020.1)\n",
            "Requirement already satisfied: python-dateutil>=2.6.1 in /anaconda/envs/azureml_py36/lib/python3.6/site-packages (from pandas) (2.8.1)\n",
            "Requirement already satisfied: numpy>=1.13.3 in /anaconda/envs/azureml_py36/lib/python3.6/site-packages (from pandas) (1.18.5)\n",
            "Requirement already satisfied: six>=1.5 in /anaconda/envs/azureml_py36/lib/python3.6/site-packages (from python-dateutil>=2.6.1->pandas) (1.15.0)\n",
            "Requirement already satisfied: sklearn in /anaconda/envs/azureml_py36/lib/python3.6/site-packages (0.0)\n",
            "Requirement already satisfied: scikit-learn in /anaconda/envs/azureml_py36/lib/python3.6/site-packages (from sklearn) (0.22.2.post1)\n",
            "Requirement already satisfied: joblib>=0.11 in /anaconda/envs/azureml_py36/lib/python3.6/site-packages (from scikit-learn->sklearn) (0.14.1)\n",
            "Requirement already satisfied: numpy>=1.11.0 in /anaconda/envs/azureml_py36/lib/python3.6/site-packages (from scikit-learn->sklearn) (1.18.5)\n",
            "Requirement already satisfied: scipy>=0.17.0 in /anaconda/envs/azureml_py36/lib/python3.6/site-packages (from scikit-learn->sklearn) (1.5.2)\n"
          ]
        }
      ],
      "execution_count": 17,
      "metadata": {}
    },
    {
      "cell_type": "code",
      "source": [
        "# Load the data set\n",
        "import pandas\n",
        "import numpy\n",
        "import pickle\n",
        "\n",
        "\n",
        "from sklearn import tree\n",
        "from sklearn.model_selection import train_test_split"
      ],
      "outputs": [],
      "execution_count": 18,
      "metadata": {
        "gather": {
          "logged": 1622347805479
        }
      }
    },
    {
      "cell_type": "code",
      "source": [
        "temp_data = pandas.read_csv('temperature_data.csv')\n",
        "temp_data"
      ],
      "outputs": [
        {
          "output_type": "execute_result",
          "execution_count": 19,
          "data": {
            "text/plain": "     machine_temperature  machine_pressure  ambient_temperature  \\\n0              21.018765          1.002138            20.768628   \n1              21.965850          1.110034            21.223653   \n2              22.999720          1.227816            20.872120   \n3              23.731603          1.311195            21.470454   \n4              24.902941          1.444639            20.895378   \n..                   ...               ...                  ...   \n613           105.877218         10.669556            20.533100   \n614           105.990477         10.682459            21.383384   \n615           105.642759         10.642846            21.347985   \n616           105.742701         10.654232            20.568153   \n617           105.532546         10.630290            20.725628   \n\n     ambient_humidity  anomaly  \n0                  24        0  \n1                  26        0  \n2                  25        0  \n3                  25        0  \n4                  24        0  \n..                ...      ...  \n613                25        1  \n614                24        1  \n615                24        1  \n616                26        1  \n617                26        1  \n\n[618 rows x 5 columns]",
            "text/html": "<div>\n<style scoped>\n    .dataframe tbody tr th:only-of-type {\n        vertical-align: middle;\n    }\n\n    .dataframe tbody tr th {\n        vertical-align: top;\n    }\n\n    .dataframe thead th {\n        text-align: right;\n    }\n</style>\n<table border=\"1\" class=\"dataframe\">\n  <thead>\n    <tr style=\"text-align: right;\">\n      <th></th>\n      <th>machine_temperature</th>\n      <th>machine_pressure</th>\n      <th>ambient_temperature</th>\n      <th>ambient_humidity</th>\n      <th>anomaly</th>\n    </tr>\n  </thead>\n  <tbody>\n    <tr>\n      <th>0</th>\n      <td>21.018765</td>\n      <td>1.002138</td>\n      <td>20.768628</td>\n      <td>24</td>\n      <td>0</td>\n    </tr>\n    <tr>\n      <th>1</th>\n      <td>21.965850</td>\n      <td>1.110034</td>\n      <td>21.223653</td>\n      <td>26</td>\n      <td>0</td>\n    </tr>\n    <tr>\n      <th>2</th>\n      <td>22.999720</td>\n      <td>1.227816</td>\n      <td>20.872120</td>\n      <td>25</td>\n      <td>0</td>\n    </tr>\n    <tr>\n      <th>3</th>\n      <td>23.731603</td>\n      <td>1.311195</td>\n      <td>21.470454</td>\n      <td>25</td>\n      <td>0</td>\n    </tr>\n    <tr>\n      <th>4</th>\n      <td>24.902941</td>\n      <td>1.444639</td>\n      <td>20.895378</td>\n      <td>24</td>\n      <td>0</td>\n    </tr>\n    <tr>\n      <th>...</th>\n      <td>...</td>\n      <td>...</td>\n      <td>...</td>\n      <td>...</td>\n      <td>...</td>\n    </tr>\n    <tr>\n      <th>613</th>\n      <td>105.877218</td>\n      <td>10.669556</td>\n      <td>20.533100</td>\n      <td>25</td>\n      <td>1</td>\n    </tr>\n    <tr>\n      <th>614</th>\n      <td>105.990477</td>\n      <td>10.682459</td>\n      <td>21.383384</td>\n      <td>24</td>\n      <td>1</td>\n    </tr>\n    <tr>\n      <th>615</th>\n      <td>105.642759</td>\n      <td>10.642846</td>\n      <td>21.347985</td>\n      <td>24</td>\n      <td>1</td>\n    </tr>\n    <tr>\n      <th>616</th>\n      <td>105.742701</td>\n      <td>10.654232</td>\n      <td>20.568153</td>\n      <td>26</td>\n      <td>1</td>\n    </tr>\n    <tr>\n      <th>617</th>\n      <td>105.532546</td>\n      <td>10.630290</td>\n      <td>20.725628</td>\n      <td>26</td>\n      <td>1</td>\n    </tr>\n  </tbody>\n</table>\n<p>618 rows × 5 columns</p>\n</div>"
          },
          "metadata": {}
        }
      ],
      "execution_count": 19,
      "metadata": {
        "scrolled": true,
        "gather": {
          "logged": 1622347809329
        }
      }
    },
    {
      "cell_type": "code",
      "source": [
        "# Load features and labels\n",
        "X, Y = temp_data[['machine_temperature', 'machine_pressure', 'ambient_temperature', 'ambient_humidity']].values, temp_data['anomaly'].values"
      ],
      "outputs": [],
      "execution_count": 20,
      "metadata": {
        "gather": {
          "logged": 1622349348856
        }
      }
    },
    {
      "cell_type": "code",
      "source": [
        "# Split data 65%-35% into training set and test set\n",
        "X_train, X_test, Y_train, Y_test = train_test_split(X, Y, test_size=0.35, random_state=0)\n",
        "\n",
        "# Change regularization rate and you will likely get a different accuracy.\n",
        "reg = 0.01\n",
        "\n",
        "# Train a decision tree on the training set\n",
        "#clf1 = LogisticRegression(C=1/reg).fit(X_train, Y_train)\n",
        "clf1 = tree.DecisionTreeClassifier()\n",
        "clf1 = clf1.fit(X_train, Y_train)\n",
        "print (clf1)"
      ],
      "outputs": [
        {
          "output_type": "stream",
          "name": "stdout",
          "text": [
            "DecisionTreeClassifier(ccp_alpha=0.0, class_weight=None, criterion='gini',\n",
            "                       max_depth=None, max_features=None, max_leaf_nodes=None,\n",
            "                       min_impurity_decrease=0.0, min_impurity_split=None,\n",
            "                       min_samples_leaf=1, min_samples_split=2,\n",
            "                       min_weight_fraction_leaf=0.0, presort='deprecated',\n",
            "                       random_state=None, splitter='best')\n"
          ]
        }
      ],
      "execution_count": 21,
      "metadata": {
        "gather": {
          "logged": 1622349355043
        }
      }
    },
    {
      "cell_type": "code",
      "source": [
        "# Evaluate the test set\n",
        "accuracy = clf1.score(X_test, Y_test)\n",
        "\n",
        "print (\"Accuracy is {}\".format(accuracy))"
      ],
      "outputs": [
        {
          "output_type": "stream",
          "name": "stdout",
          "text": [
            "Accuracy is 0.9907834101382489\n"
          ]
        }
      ],
      "execution_count": 22,
      "metadata": {
        "scrolled": true,
        "gather": {
          "logged": 1622349375343
        }
      }
    },
    {
      "cell_type": "code",
      "source": [
        "# Serialize the model and write to disk\n",
        "f = open('model.pkl', 'wb')\n",
        "pickle.dump(clf1, f)\n",
        "f.close()\n",
        "print (\"Exported the model to model.pkl\")"
      ],
      "outputs": [
        {
          "output_type": "stream",
          "name": "stdout",
          "text": [
            "Exported the model to model.pkl\n"
          ]
        }
      ],
      "execution_count": 23,
      "metadata": {
        "gather": {
          "logged": 1622349390563
        }
      }
    },
    {
      "cell_type": "code",
      "source": [
        "# Test the model by importing it and providing a sample data point\n",
        "print(\"Import the model from model.pkl\")\n",
        "f2 = open('model.pkl', 'rb')\n",
        "clf2 = pickle.load(f2)\n",
        "\n",
        "# Normal (not an anomaly)\n",
        "#X_new = [[24.90294136, 1.44463889, 20.89537849, 24]]\n",
        "#X_new = [[33.40859853, 2.413637808, 20.89162813, 26]]\n",
        "#X_new = [[34.42109181, 2.528985143, 21.23903786, 25]]\n",
        "\n",
        "# Anomaly\n",
        "X_new = [[33.66995566, 2.44341267, 21.39450979, 26]]\n",
        "#X_new = [[105.5457931, 10.63179922, 20.62029994, 26]]\n",
        "\n",
        "print ('New sample: {}'.format(X_new))\n",
        "\n",
        "pred = clf2.predict(X_new)\n",
        "print('Predicted class is {}'.format(pred))"
      ],
      "outputs": [
        {
          "output_type": "stream",
          "name": "stdout",
          "text": [
            "Import the model from model.pkl\n",
            "New sample: [[33.66995566, 2.44341267, 21.39450979, 26]]\n",
            "Predicted class is [1]\n"
          ]
        }
      ],
      "execution_count": 24,
      "metadata": {
        "gather": {
          "logged": 1622349561425
        }
      }
    },
    {
      "cell_type": "markdown",
      "source": [
        "### 4.2 Register Model"
      ],
      "metadata": {}
    },
    {
      "cell_type": "markdown",
      "source": [
        "You can add tags and descriptions to your models. Note you need to have a `model.pkl` file in the current directory. The below call registers that file as a model with the same name `model.pkl` in the workspace.\n",
        "\n",
        "Using tags, you can track useful information such as the name and version of the machine learning library used to train the model. Note that tags must be alphanumeric."
      ],
      "metadata": {}
    },
    {
      "cell_type": "code",
      "source": [
        "from azureml.core.model import Model\n",
        "\n",
        "model = Model.register(model_path = \"model.pkl\",\n",
        "                       model_name = \"model.pkl\",\n",
        "                       tags = {'area': \"anomaly\", 'type': \"classification\"},\n",
        "                       description = \"Sample anomaly detection model for IOT tutorial\",\n",
        "                       workspace = ws)"
      ],
      "outputs": [
        {
          "output_type": "stream",
          "name": "stdout",
          "text": [
            "Registering model model.pkl\n"
          ]
        }
      ],
      "execution_count": 25,
      "metadata": {
        "tags": [
          "register model from file"
        ],
        "gather": {
          "logged": 1622349604421
        }
      }
    },
    {
      "cell_type": "code",
      "source": [
        "print(model.name, model.description, model.version, sep = '\\t')"
      ],
      "outputs": [
        {
          "output_type": "stream",
          "name": "stdout",
          "text": [
            "model.pkl\tSample anomaly detection model for IOT tutorial\t1\n"
          ]
        }
      ],
      "execution_count": 26,
      "metadata": {
        "gather": {
          "logged": 1622349607658
        }
      }
    },
    {
      "cell_type": "markdown",
      "source": [
        "### 4.2 Create Docker Image"
      ],
      "metadata": {}
    },
    {
      "cell_type": "markdown",
      "source": [
        "Create the driver file.  Note that the `model.pkl` file in the get_model_path call is referring to a model named `model.pkl` registered under the workspace (what you registered above). It is NOT referencing the local file."
      ],
      "metadata": {}
    },
    {
      "cell_type": "code",
      "source": [
        "%%writefile iot_score.py\n",
        "# This script generates the scoring file\n",
        "# with the init and run functions needed to \n",
        "# operationalize the anomaly detection sample\n",
        "\n",
        "import pickle\n",
        "import json\n",
        "import pandas\n",
        "import joblib\n",
        "from sklearn.linear_model import Ridge\n",
        "from azureml.core.model import Model\n",
        "\n",
        "def init():\n",
        "    global model\n",
        "    # this is a different behavior than before when the code is run locally, even though the code is the same.\n",
        "    model_path = Model.get_model_path('model.pkl')\n",
        "    # deserialize the model file back into a sklearn model\n",
        "    model = joblib.load(model_path)\n",
        "\n",
        "# note you can pass in multiple rows for scoring\n",
        "def run(input_str):\n",
        "    try:\n",
        "        input_json = json.loads(input_str)\n",
        "        input_df = pandas.DataFrame([[input_json['machine']['temperature'],input_json['machine']['pressure'],input_json['ambient']['temperature'],input_json['ambient']['humidity']]])\n",
        "        pred = model.predict(input_df)\n",
        "        print(\"Prediction is \", pred[0])\n",
        "    except Exception as e:\n",
        "        result = str(e)\n",
        "        \n",
        "    if pred[0] == 1:\n",
        "        input_json['anomaly']=True\n",
        "    else:\n",
        "        input_json['anomaly']=False\n",
        "        \n",
        "    return [json.dumps(input_json)]\n"
      ],
      "outputs": [
        {
          "output_type": "stream",
          "name": "stdout",
          "text": [
            "Overwriting iot_score.py\n"
          ]
        }
      ],
      "execution_count": 27,
      "metadata": {}
    },
    {
      "cell_type": "code",
      "source": [
        "# This specifies the dependencies to include in the environment\n",
        "from azureml.core.conda_dependencies import CondaDependencies \n",
        "\n",
        "myenv = CondaDependencies.create(conda_packages=['pandas', 'scikit-learn', 'numpy'])\n",
        "\n",
        "with open(\"myenv.yml\",\"w\") as f:\n",
        "    f.write(myenv.serialize_to_string())"
      ],
      "outputs": [],
      "execution_count": 28,
      "metadata": {
        "gather": {
          "logged": 1622350131199
        }
      }
    },
    {
      "cell_type": "markdown",
      "source": [
        "You can add tags and descriptions to images. Also, an image can contain multiple models."
      ],
      "metadata": {}
    },
    {
      "cell_type": "code",
      "source": [
        "from azureml.core.image import Image, ContainerImage\n",
        "\n",
        "image_config = ContainerImage.image_configuration(runtime= \"python\",\n",
        "                                 execution_script=\"iot_score.py\",\n",
        "                                 conda_file=\"myenv.yml\",\n",
        "                                 tags = {'area': \"iot\", 'type': \"anamaly-classification\"},\n",
        "                                 description = \"IOT Edge anomaly detection demo\")\n",
        "\n",
        "\n",
        "image = Image.create(name = \"tempanomalydetection\",\n",
        "                     # this is the model object \n",
        "                     models = [model],\n",
        "                     image_config = image_config, \n",
        "                     workspace = ws)"
      ],
      "outputs": [
        {
          "output_type": "stream",
          "name": "stderr",
          "text": [
            "/anaconda/envs/azureml_py36/lib/python3.6/site-packages/ipykernel_launcher.py:7: DeprecationWarning: ContainerImage class has been deprecated and will be removed in a future release. Please migrate to using Environments. https://docs.microsoft.com/en-us/azure/machine-learning/how-to-use-environments\n",
            "  import sys\n",
            "/anaconda/envs/azureml_py36/lib/python3.6/site-packages/ipykernel_launcher.py:14: DeprecationWarning: Image class has been deprecated and will be removed in a future release. Please migrate to using Environments. https://docs.microsoft.com/en-us/azure/machine-learning/how-to-use-environments\n",
            "  \n"
          ]
        },
        {
          "output_type": "stream",
          "name": "stdout",
          "text": [
            "Creating image\n"
          ]
        }
      ],
      "execution_count": 32,
      "metadata": {
        "tags": [
          "create image"
        ],
        "gather": {
          "logged": 1622352524373
        }
      }
    },
    {
      "cell_type": "markdown",
      "source": [
        "Note that following command can take few minutes. "
      ],
      "metadata": {}
    },
    {
      "cell_type": "code",
      "source": [
        "image.wait_for_creation(show_output = True)"
      ],
      "outputs": [
        {
          "output_type": "stream",
          "name": "stdout",
          "text": [
            "Running...........................................................................................\n",
            "Succeeded\n",
            "Image creation operation finished for image tempanomalydetection:2, operation \"Succeeded\"\n"
          ]
        }
      ],
      "execution_count": 33,
      "metadata": {
        "tags": [
          "create image"
        ],
        "gather": {
          "logged": 1622352994969
        }
      }
    },
    {
      "cell_type": "markdown",
      "source": [
        "List images by tag and find out the detailed build log for debugging."
      ],
      "metadata": {}
    },
    {
      "cell_type": "code",
      "source": [
        "for i in Image.list(workspace = ws,tags = [\"area\"]):\n",
        "    print('{}(v.{} [{}]) stored at {} with build log {}'.format(i.name, i.version, i.creation_state, i.image_location, i.image_build_log_uri))"
      ],
      "outputs": [
        {
          "output_type": "stream",
          "name": "stderr",
          "text": [
            "/anaconda/envs/azureml_py36/lib/python3.6/site-packages/ipykernel_launcher.py:1: DeprecationWarning: Image class has been deprecated and will be removed in a future release. Please migrate to using Environments. https://docs.microsoft.com/en-us/azure/machine-learning/how-to-use-environments\n",
            "  \"\"\"Entry point for launching an IPython kernel.\n"
          ]
        },
        {
          "output_type": "stream",
          "name": "stdout",
          "text": [
            "tempanomalydetection(v.1 [Succeeded]) stored at 19002c4599604129be865e1586c0287b.azurecr.cn/tempanomalydetection:1 with build log https://mlworkspace1842961028.blob.core.chinacloudapi.cn/azureml/ImageLogs/57f3f19b-adb4-456a-824e-024da79b2f93/build.log?sv=2019-02-02&sr=b&sig=EiuwbjTHGZ8a7QbV2dxqB0UvWXez0PBRjjV6OcInCzY%3D&st=2021-05-30T04%3A55%3A06Z&se=2021-06-29T05%3A00%3A06Z&sp=rl\n"
          ]
        }
      ],
      "execution_count": 31,
      "metadata": {
        "tags": [
          "create image"
        ],
        "gather": {
          "logged": 1622350806520
        }
      }
    },
    {
      "cell_type": "markdown",
      "source": [
        "## 5: Test model on Azure Container Instance\n",
        "You can test the performance of your model by deploying the container to ACI.  Note that the service creation can take few minutes."
      ],
      "metadata": {}
    },
    {
      "cell_type": "code",
      "source": [
        "from azureml.core.webservice import AciWebservice\n",
        "\n",
        "aciconfig = AciWebservice.deploy_configuration(cpu_cores = 1, \n",
        "                                               memory_gb = 1, \n",
        "                                               tags = {'area': \"iot\", 'type': \"classification\"}, \n",
        "                                               description = 'IOT Edge anomaly detection demo')"
      ],
      "outputs": [],
      "execution_count": null,
      "metadata": {
        "tags": [
          "deploy service",
          "aci"
        ]
      }
    },
    {
      "cell_type": "code",
      "source": [
        "from azureml.core.webservice import Webservice\n",
        "\n",
        "aci_service_name = 'tempsensor-iotedge-ml-1'\n",
        "print(aci_service_name)\n",
        "aci_service = Webservice.deploy_from_image(deployment_config = aciconfig,\n",
        "                                           image = image,\n",
        "                                           name = aci_service_name,\n",
        "                                           workspace = ws)\n",
        "aci_service.wait_for_deployment(True)\n",
        "print(aci_service.state)"
      ],
      "outputs": [],
      "execution_count": null,
      "metadata": {
        "tags": [
          "deploy service",
          "aci"
        ]
      }
    },
    {
      "cell_type": "markdown",
      "source": [
        "### 5.1: Test web service"
      ],
      "metadata": {}
    },
    {
      "cell_type": "markdown",
      "source": [
        "Call the web service with some dummy input data to get a prediction."
      ],
      "metadata": {}
    },
    {
      "cell_type": "code",
      "source": [
        "import json\n",
        "\n",
        "# Anomaly\n",
        "#test_sample = json.dumps({ \"machine\": { \"temperature\": 33.66995566, \"pressure\": 2.44341267 }, \\\n",
        "#                          \"ambient\": { \"temperature\": 21.39450979, \"humidity\": 26 },\\\n",
        "#                          \"timeCreated\": \"2017-10-27T18:14:02.4911177Z\" })\n",
        "\n",
        "# Normal\n",
        "test_sample = json.dumps({ \"machine\": { \"temperature\": 31.16469009, \"pressure\": 2.158002669 }, \\\n",
        "                          \"ambient\": { \"temperature\": 21.17794693, \"humidity\": 25 },\\\n",
        "                          \"timeCreated\": \"2017-10-27T18:14:02.4911177Z\" })\n",
        "\n",
        "test_sample = bytes(test_sample,encoding = 'utf8')\n",
        "\n",
        "prediction = aci_service.run(input_data = test_sample)\n",
        "print(prediction)"
      ],
      "outputs": [],
      "execution_count": null,
      "metadata": {
        "tags": [
          "deploy service",
          "aci"
        ]
      }
    },
    {
      "cell_type": "markdown",
      "source": [
        "### 5.2: Delete ACI to clean up"
      ],
      "metadata": {}
    },
    {
      "cell_type": "code",
      "source": [
        "aci_service.delete()"
      ],
      "outputs": [],
      "execution_count": null,
      "metadata": {
        "tags": [
          "deploy service",
          "aci"
        ]
      }
    },
    {
      "cell_type": "markdown",
      "source": [
        "## 6: Deploy container to Azure IoT Edge device\n",
        "Create a deployment.json file that contains the modules you want to deploy to the device and the routes.  Then push this file to the IoT Hub, which will then send it to the IoT Edge device.  The IoT Edge agent will then pull the Docker images and run them.\n",
        "\n",
        "This section pulls the container registry information from your workspace. Machine Learning workspaces don't automatically provision container registries when they're created, but wait until there's a container image to store. In the case of this tutorial, the container image was created in section 4.2. So in this section, we update the workspace config information. Your container registry still may not be ready by the time you get to this step. Keep running the first cell of this section until it finds the registry information. You can also check to see if the container registry exists yet by viewing the workspace overview page in the Azure portal."
      ],
      "metadata": {}
    },
    {
      "cell_type": "code",
      "source": [
        "# Update the workspace object\n",
        "ws = Workspace.from_config()\n",
        "\n",
        "# Getting your container details\n",
        "container_reg = ws.get_details()[\"containerRegistry\"]\n",
        "reg_name=container_reg.split(\"/\")[-1]\n",
        "container_url = \"\\\"\" + image.image_location + \"\\\",\"\n",
        "subscription_id = ws.subscription_id\n",
        "print('{}'.format(image.image_location))\n",
        "print('{}'.format(reg_name))\n",
        "print('{}'.format(subscription_id))\n",
        "\n",
        "username = mlacr_username\n",
        "password = mlacr_password"
      ],
      "outputs": [
        {
          "output_type": "stream",
          "name": "stdout",
          "text": [
            "19002c4599604129be865e1586c0287b.azurecr.cn/tempanomalydetection:2\n",
            "19002c4599604129be865e1586c0287b\n",
            "a418906f-b40d-43ee-b86a-ce67f05be91e\n"
          ]
        }
      ],
      "execution_count": 55,
      "metadata": {
        "gather": {
          "logged": 1622358388999
        }
      }
    },
    {
      "cell_type": "code",
      "source": [
        "file = open('iot-workshop-deployment-template.json')\n",
        "contents = file.read()\n",
        "contents = contents.replace('__MODULE_NAME', module_name)\n",
        "contents = contents.replace('__REGISTRY_NAME', reg_name)\n",
        "contents = contents.replace('__REGISTRY_USER_NAME', username)\n",
        "contents = contents.replace('__REGISTRY_PASSWORD', password)\n",
        "contents = contents.replace('__REGISTRY_IMAGE_LOCATION', image.image_location)\n",
        "with open('./deployment.json', 'wt', encoding='utf-8') as output_file:\n",
        "    output_file.write(contents)"
      ],
      "outputs": [],
      "execution_count": 59,
      "metadata": {
        "gather": {
          "logged": 1622358585835
        }
      }
    },
    {
      "cell_type": "code",
      "source": [
        "# Push the deployment JSON to the IOT Hub\n",
        "!az iot edge set-modules --device-id $iot_device_id --hub-name $iot_hub_name --content deployment.json"
      ],
      "outputs": [],
      "execution_count": null,
      "metadata": {}
    },
    {
      "cell_type": "markdown",
      "source": [
        "## Congratulations!\n",
        "You made it to the end of the tutorial!  You can monitor messages from your edge device to your IoT Hub with VS Code and the [Azure IoT Hub Toolkit](https://marketplace.visualstudio.com/items?itemName=vsciot-vscode.azure-iot-toolkit) extension."
      ],
      "metadata": {}
    },
    {
      "cell_type": "code",
      "source": [],
      "outputs": [],
      "execution_count": null,
      "metadata": {}
    }
  ],
  "metadata": {
    "authors": [
      {
        "name": "raymondl"
      }
    ],
    "kernelspec": {
      "name": "python3-azureml",
      "language": "python",
      "display_name": "Python 3.6 - AzureML"
    },
    "language_info": {
      "name": "python",
      "version": "3.6.9",
      "mimetype": "text/x-python",
      "codemirror_mode": {
        "name": "ipython",
        "version": 3
      },
      "pygments_lexer": "ipython3",
      "nbconvert_exporter": "python",
      "file_extension": ".py"
    },
    "kernel_info": {
      "name": "python3-azureml"
    },
    "nteract": {
      "version": "nteract-front-end@1.0.0"
    }
  },
  "nbformat": 4,
  "nbformat_minor": 2
}